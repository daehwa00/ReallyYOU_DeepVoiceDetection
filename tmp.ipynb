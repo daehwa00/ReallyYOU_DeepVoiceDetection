{
 "cells": [
  {
   "cell_type": "code",
   "execution_count": null,
   "metadata": {},
   "outputs": [],
   "source": [
    "import requests\n",
    "\n",
    "url = 'http://localhost:5000/audio' # Flask 앱의 /audio 엔드포인트 URL\n",
    "\n",
    "# 업로드할 파일 지정\n",
    "files = {'file': open('LJ040-0073.wav', 'rb')}\n",
    "\n",
    "# POST 요청을 보내서 파일을 업로드\n",
    "response = requests.post(url, files=files)\n",
    "\n",
    "# 서버의 응답을 출력\n",
    "print(response.text)\n"
   ]
  }
 ],
 "metadata": {
  "language_info": {
   "name": "python"
  },
  "orig_nbformat": 4
 },
 "nbformat": 4,
 "nbformat_minor": 2
}
